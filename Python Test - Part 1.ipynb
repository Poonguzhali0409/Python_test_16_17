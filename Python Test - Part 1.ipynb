{
 "cells": [
  {
   "cell_type": "markdown",
   "id": "1da67672",
   "metadata": {},
   "source": [
    "### 1. Write a program (with function) which takes a sequence of numbers and check if all numbers are unique.\n"
   ]
  },
  {
   "cell_type": "code",
   "execution_count": null,
   "id": "3886152e",
   "metadata": {},
   "outputs": [],
   "source": []
  },
  {
   "cell_type": "markdown",
   "id": "84626a46",
   "metadata": {},
   "source": [
    "### 2. Python program to find out the average of a set of integers\n"
   ]
  },
  {
   "cell_type": "code",
   "execution_count": 20,
   "id": "e123b6e2",
   "metadata": {},
   "outputs": [
    {
     "name": "stdout",
     "output_type": "stream",
     "text": [
      "Enter a number - 5\n",
      "Average of a set of integers :  3.0\n"
     ]
    }
   ],
   "source": [
    "num = int(input('Enter a number - '))\n",
    "inte = list(range(1,num+1))\n",
    "avg=0\n",
    "\n",
    "for i in range(num):\n",
    "    avg+=inte[i]\n",
    "print('Average of a set of integers : ',(avg/num))\n"
   ]
  },
  {
   "cell_type": "markdown",
   "id": "4ddaece0",
   "metadata": {},
   "source": [
    "### 3. Python program to check whether the given integer is a multiple of both 5 and 7"
   ]
  },
  {
   "cell_type": "code",
   "execution_count": 23,
   "id": "85ea0072",
   "metadata": {},
   "outputs": [
    {
     "name": "stdout",
     "output_type": "stream",
     "text": [
      "Provide an integer : 35\n",
      "Given number is a multiple of both 5 and 7\n"
     ]
    }
   ],
   "source": [
    "num = int(input('Provide an integer : '))\n",
    "if (num%5==0 and num%7==0) :\n",
    "    print('Given number is a multiple of both 5 and 7')\n",
    "elif (num<0) :\n",
    "    print ('Please provide a positive integer')\n",
    "else :\n",
    "    print('The integer entered is not a multiple of both 5 and 7')"
   ]
  },
  {
   "cell_type": "markdown",
   "id": "139563b4",
   "metadata": {},
   "source": [
    "### 4. Python program to display the given integer in reverse manner"
   ]
  },
  {
   "cell_type": "code",
   "execution_count": 42,
   "id": "a25c4392",
   "metadata": {},
   "outputs": [
    {
     "name": "stdout",
     "output_type": "stream",
     "text": [
      "Enter a number to reverse it - 345\n",
      "543\n"
     ]
    }
   ],
   "source": [
    "num = int(input('Enter a number to reverse it - '))\n",
    "rev=0\n",
    "\n",
    "while (num!=0) :\n",
    "    dum = num%10\n",
    "    rev = rev*10+dum\n",
    "    num //=10\n",
    "print(rev)\n",
    "\n",
    "    "
   ]
  },
  {
   "cell_type": "markdown",
   "id": "cb0967c4",
   "metadata": {},
   "source": [
    "### 5. Create an inner function to calculate the addition in the following way"
   ]
  },
  {
   "cell_type": "code",
   "execution_count": 83,
   "id": "0f8886e9",
   "metadata": {},
   "outputs": [
    {
     "name": "stdout",
     "output_type": "stream",
     "text": [
      "12\n"
     ]
    }
   ],
   "source": [
    "def outer (a,b) :\n",
    "    def inner():\n",
    "        return (a+b)\n",
    "    return inner\n",
    "    \n",
    "\n",
    "result = outer(4,3)\n",
    "print(result()+5)"
   ]
  },
  {
   "cell_type": "markdown",
   "id": "dab2aad2",
   "metadata": {},
   "source": [
    "### 6. Python Program to Check Leap Year"
   ]
  },
  {
   "cell_type": "code",
   "execution_count": 78,
   "id": "b3da1175",
   "metadata": {},
   "outputs": [
    {
     "name": "stdout",
     "output_type": "stream",
     "text": [
      "Enter a year2017\n",
      "2017 is not a Leap Year\n"
     ]
    }
   ],
   "source": [
    "year = int(input('Enter a year'))\n",
    "\n",
    "if year % 4 == 0 and year % 100 != 0:\n",
    "    print(year, \"is a Leap Year\")\n",
    "elif year % 100 == 0:\n",
    "    print(year, \"is not a Leap Year\")\n",
    "elif year % 400 ==0:\n",
    "    print(year, \"is a Leap Year\")\n",
    "else:\n",
    "    print(year, \"is not a Leap Year\")"
   ]
  },
  {
   "cell_type": "code",
   "execution_count": null,
   "id": "49f23856",
   "metadata": {},
   "outputs": [],
   "source": []
  },
  {
   "cell_type": "code",
   "execution_count": null,
   "id": "74e127b4",
   "metadata": {},
   "outputs": [],
   "source": []
  }
 ],
 "metadata": {
  "kernelspec": {
   "display_name": "Python 3 (ipykernel)",
   "language": "python",
   "name": "python3"
  },
  "language_info": {
   "codemirror_mode": {
    "name": "ipython",
    "version": 3
   },
   "file_extension": ".py",
   "mimetype": "text/x-python",
   "name": "python",
   "nbconvert_exporter": "python",
   "pygments_lexer": "ipython3",
   "version": "3.9.7"
  }
 },
 "nbformat": 4,
 "nbformat_minor": 5
}
